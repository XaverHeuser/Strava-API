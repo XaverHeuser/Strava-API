{
 "cells": [
  {
   "cell_type": "code",
   "id": "initial_id",
   "metadata": {
    "collapsed": true,
    "ExecuteTime": {
     "end_time": "2024-10-19T19:40:36.172439Z",
     "start_time": "2024-10-19T19:40:35.736535Z"
    }
   },
   "source": "from utils.api_data import get_data_activities",
   "outputs": [],
   "execution_count": 1
  },
  {
   "metadata": {
    "ExecuteTime": {
     "end_time": "2024-10-19T19:40:37.364268Z",
     "start_time": "2024-10-19T19:40:36.197903Z"
    }
   },
   "cell_type": "code",
   "source": [
    "request_page_num = 1\n",
    "all_activities = []\n",
    "\n",
    "while True:\n",
    "    param = {'per_page': 200, 'page': request_page_num} \n",
    "    my_dataset = get_data_activities(param)\n",
    "    if len(my_dataset) == 0:\n",
    "        break\n",
    "\n",
    "    if all_activities:\n",
    "        all_activities.extend(my_dataset)\n",
    "\n",
    "    else:\n",
    "        all_activities = my_dataset\n",
    "\n",
    "    request_page_num += 1\n",
    "\n",
    "print('The length of all activities is: ', len(all_activities))\n",
    "print(6*'=')\n",
    "for activity in all_activities:\n",
    "    print(activity['name'])\n",
    "    print(activity['distance']/1000, 'km')\n",
    "    print(activity['elapsed_time']/60, 'min')\n",
    "    print(15*'=')\n"
   ],
   "id": "983d15beea44f4a",
   "outputs": [
    {
     "name": "stdout",
     "output_type": "stream",
     "text": [
      "The length of all activities is:  4\n",
      "======\n",
      "Saturday Run\n",
      "15.349 km\n",
      "72.46666666666667 min\n",
      "===============\n",
      "Short Ride\n",
      "9.8199 km\n",
      "30.133333333333333 min\n",
      "===============\n",
      "Recovery Run\n",
      "8.6814 km\n",
      "48.6 min\n",
      "===============\n",
      "Lunch Run\n",
      "6.0001999999999995 km\n",
      "28.016666666666666 min\n",
      "===============\n"
     ]
    }
   ],
   "execution_count": 2
  },
  {
   "metadata": {
    "ExecuteTime": {
     "end_time": "2024-10-19T19:40:40.144063Z",
     "start_time": "2024-10-19T19:40:40.138092Z"
    }
   },
   "cell_type": "code",
   "source": "print(all_activities)",
   "id": "456673352f458d54",
   "outputs": [
    {
     "name": "stdout",
     "output_type": "stream",
     "text": [
      "[{'resource_state': 2, 'athlete': {'id': 133094316, 'resource_state': 1}, 'name': 'Saturday Run', 'distance': 15349.0, 'moving_time': 4309, 'elapsed_time': 4348, 'total_elevation_gain': 97.8, 'type': 'Run', 'sport_type': 'Run', 'workout_type': None, 'id': 12692532615, 'start_date': '2024-10-19T12:00:00Z', 'start_date_local': '2024-10-19T14:00:00Z', 'timezone': '(GMT+01:00) Europe/Berlin', 'utc_offset': 7200.0, 'location_city': None, 'location_state': None, 'location_country': 'Germany', 'achievement_count': 0, 'kudos_count': 1, 'comment_count': 0, 'athlete_count': 1, 'photo_count': 0, 'map': {'id': 'a12692532615', 'summary_polyline': '_eluHcn|j@HpEC~@SfCYlBKnA_@xBa@dB_A~Be@bBMr@OpBCfAJxATbB@t@XdDR`BTdAHl@BBq@bAWj@gAhBw@bAy@h@mBl@{@l@oBv@wF~@kA`@wDp@sAL}B[{A?cBv@uB`Ci@t@m@l@qB~DSzAYtAYlCU`AIfAO`Ae@~@]~@]l@s@dB_BrC_Ap@{@lAeC~BuAt@aAN_Bf@eDdBwA|@cCZsA?USYq@_@i@c@_@sB{@y@k@}@_@uAkAo@SiA@uCS{B]iAN]LkBd@gBIiCF]I{@u@g@Si@a@sBm@gB{@aCWc@Be@ZQ`@i@pBUl@iA|AQDq@mASQi@YyAkDoBqCkBiBqBkCoCkAm@c@g@m@s@uA{@iAu@k@yAeCy@]qAL}Ap@oAJmAZYIIMIk@Cm@KiA?eANq@h@{@`DeERg@Hq@G_A_B_Cw@uC[m@LWfAcAbB}@BI\\\\SjAe@jEyCdF{@vAo@pDg@hBm@j@e@lAy@h@}@@SC?RGh@c@Xa@`@[Xk@f@i@lGaDrAa@|Ba@nEqBpDoArJwH|CgB~AwA`By@~AyAbBiAfAkA|@qA|@eAzDqG`BaCnB_BfDoE~HyIt@q@pAwAlAy@hAiCxAyAfAqAZ[fBiAZ[FKNsAfAgBnB_Cj@k@l@}@lAoAz@iAxDwHj@sB^kBvByIbAqEp@eBpAsBzA_BvAcAtBeApA[lCYj@BbAZb@Gb@Fj@I~B@jAUv@w@`AyA~@eAb@eAd@cBRa@hAyAfBmC`EkErEqEH?BHFdAVb@VdALdBRz@?^Il@Ch@A`CMxC?bBTlEz@`FMjA@RNx@HR\\\\\\\\xC~@x@f@~@\\\\NP\\\\|@RNd@JbArApDvCjEpEt@~@lAfBJb@RpC^r@b@`@\\\\d@zBrDbA|@d@l@pA|BfBpBbB~BbAz@hAtAhBjBb@n@VBlAk@x@D|@t@|Aj@LNBRAbAK~ABZPZ?R_@vAa@~@i@fB_@t@kB~AmDxAyAzAmAvC[lAsBvEq@hAk@f@yA`Bm@d@kB`A{Bx@uAXyADw@EcAUaC{@cA?M[OGM@c@XUDcAKyAa@m@B_E_@cANcBDeB^cAd@s@f@o@Rc@b@iAp@i@iBe@u@}C{B]Gi@Fc@CkAUcAc@uCi@', 'resource_state': 2}, 'trainer': False, 'commute': False, 'manual': False, 'private': False, 'visibility': 'everyone', 'flagged': False, 'gear_id': None, 'start_latlng': [50.858643, 7.197562], 'end_latlng': [50.85867, 7.1971583], 'average_speed': 3.562, 'max_speed': 5.448, 'average_cadence': 86.5, 'has_heartrate': True, 'average_heartrate': 171.7, 'max_heartrate': 195.0, 'heartrate_opt_out': False, 'display_hide_heartrate_option': True, 'elev_high': 118.6, 'elev_low': 64.6, 'upload_id': 13532632867, 'upload_id_str': '13532632867', 'external_id': 'shealth87feca60-6d66-49c9-b38f-bf265c219738.tcx', 'from_accepted_tag': False, 'pr_count': 0, 'total_photo_count': 0, 'has_kudoed': False}, {'resource_state': 2, 'athlete': {'id': 133094316, 'resource_state': 1}, 'name': 'Short Ride', 'distance': 9819.9, 'moving_time': 1808, 'elapsed_time': 1808, 'total_elevation_gain': 77.9, 'type': 'Ride', 'sport_type': 'Ride', 'workout_type': 10, 'id': 12669613985, 'start_date': '2024-10-16T13:35:55Z', 'start_date_local': '2024-10-16T15:35:55Z', 'timezone': '(GMT+01:00) Europe/Berlin', 'utc_offset': 7200.0, 'location_city': None, 'location_state': None, 'location_country': 'Germany', 'achievement_count': 0, 'kudos_count': 1, 'comment_count': 0, 'athlete_count': 1, 'photo_count': 0, 'map': {'id': 'a12669613985', 'summary_polyline': 'geluHwm|j@CT?d@FZCx@D|@KhBAhACLAb@Qz@YpEW~@Uj@e@|AW|@G`@]bAO`AMnA@z@AdBDp@NtAD~@LpBNbBd@nB?ZIZwA|Bq@tAUZe@`@MBcAf@K@WJ[R_@JwAl@e@LcBXQLqARUNs@Hw@V_BNm@VYBMDaALUC]WQ?}@Ye@Iq@Wa@Sc@Ga@QYCa@UY?m@SUCKGISAQMBMRPTLDh@Al@b@^DbA^HNC^}AhC_@|@SVKVsApB_@t@o@t@Sd@IZIn@]dB?^ENMlAMh@WfBMZMr@qAnDIFSj@[l@Mb@u@nAYn@}@bAo@n@ULcAhA_@Ro@f@i@ZkATqBr@{@b@u@j@g@Ve@^q@ZgCTsAAWIUQi@mAY_@QQmAq@sAk@e@i@i@YoAgA[Mk@K}@F[Gs@?_BKmB@}AGc@HqAl@a@@mB\\\\u@KI@[GOMOGe@e@k@Y]_@aAi@uDqAaB[w@@YNe@b@u@Z}@Gc@@gBIMDk@BCB@VH\\\\Zn@Vz@h@PTXb@~@BJHJNALKNi@RWb@cALOTaAHq@BMNWb@_@p@I^Hn@HlDxAXFNJ^Fj@j@j@Xb@`@|@`@rB?t@Kl@C`@Op@g@|@MrCN\\\\C|ADfDZd@Jj@h@~@f@`BvAdAh@L?|@l@fAtBJJ^JtBGvAOr@a@TSRG`@W`@a@xA{@ZExAk@l@Ir@_@NOPI\\\\c@PI\\\\a@dAu@f@k@r@k@\\\\_@Zy@Zk@f@iA~@aBr@mBNk@BSJQRmAHm@JkAX_BPqAFq@\\\\gAnAwB\\\\e@Tg@d@o@r@wAr@oAN]T_@RSN_@FIHC^BhBf@PJfAV^LJADG@IDyADy@?uADeCBW@sAN_DAi@FgCAQBc@?w@BOBu@BK?_@EABVAF@JCZCd@@dAIfCEZBhACh@@LQnD?j@IdD?x@G~ACLHVz@GtA_@p@?rA]F@v@Ir@M|@WdAM~@]`@[vAm@pA_@VQ`Ag@r@cA`@}@dAaBPc@NQFQ?SUy@YgCAm@]{BCiAOeC?oAH{@DQL{AD]FMF[jAeEVy@JSHk@NuCHi@J]@]NqA@q@Fk@GcA@m@Gu@D_@I{@@m@', 'resource_state': 2}, 'trainer': False, 'commute': False, 'manual': False, 'private': False, 'visibility': 'everyone', 'flagged': False, 'gear_id': None, 'start_latlng': [50.8589, 7.1972356], 'end_latlng': [50.85885, 7.197511], 'average_speed': 5.431, 'max_speed': 11.388, 'has_heartrate': True, 'average_heartrate': 139.7, 'max_heartrate': 171.0, 'heartrate_opt_out': False, 'display_hide_heartrate_option': True, 'elev_high': 118.6, 'elev_low': 103.2, 'upload_id': 13508105221, 'upload_id_str': '13508105221', 'external_id': 'shealtha8299e3a-bd8c-4702-b0e1-32aebe4cfa90.tcx', 'from_accepted_tag': False, 'pr_count': 0, 'total_photo_count': 0, 'has_kudoed': False}, {'resource_state': 2, 'athlete': {'id': 133094316, 'resource_state': 1}, 'name': 'Recovery Run', 'distance': 8681.4, 'moving_time': 2906, 'elapsed_time': 2916, 'total_elevation_gain': 72.3, 'type': 'Run', 'sport_type': 'Run', 'workout_type': None, 'id': 12644836289, 'start_date': '2024-10-13T10:59:52Z', 'start_date_local': '2024-10-13T12:59:52Z', 'timezone': '(GMT+01:00) Europe/Berlin', 'utc_offset': 7200.0, 'location_city': None, 'location_state': None, 'location_country': 'Germany', 'achievement_count': 0, 'kudos_count': 1, 'comment_count': 0, 'athlete_count': 1, 'photo_count': 0, 'map': {'id': 'a12644836289', 'summary_polyline': 'geluHsl|j@D~@AdCUhESxAObCQfASv@a@lAc@z@Mj@Mr@GbAWzAEjCJhCHbABhAZjD\\\\|AFb@?NGT]f@c@lAQb@OTWV]t@[\\\\YP_@La@Ts@R]XqAf@a@V[LcC\\\\uAb@mAPa@PcAJ[Jq@JW@_@HW@YDuASu@_@a@MgAMU@IDW^QPg@v@]XQRiArBwA`CYZOVMb@S~@Q\\\\ELEf@S`AG~@Qp@GbAKz@]fBUn@k@~@K`@c@x@K`@[t@IJ[\\\\]p@[b@QRk@\\\\mAxAo@`AIF]NMJa@h@e@XUF]FQ@k@DeAd@_Aj@eA|@aAn@m@ZQFi@HcADe@?k@DUGYUW]c@}@_@a@UMiBk@{@e@c@a@a@Yg@m@e@]]KqAUQ?aBBWE}AEk@@m@AgADQFk@V_AL_A@gAH{@AYIkAo@u@q@k@[_AWg@S_@S}@[iBe@YEYDUHi@h@w@pC}@|AWj@IHK@GIs@yAKIUGGGc@}@e@w@AOLO\\\\Ed@@xAAZDj@Vp@BRIr@o@f@]\\\\G|@BtARVHj@^ZPf@DVH^Rz@|@~@p@^RZHxADt@?b@Gh@S\\\\a@PKTINAzA@T@`@CrABv@Dh@Jr@FZAjABfAb@`@Zh@V`Az@dAf@nAz@p@p@PZXn@X\\\\d@L~@Cl@Ll@GZ?NEvAeApAq@hA}@\\\\Of@Kf@GZKzAcAb@MVSX[Ve@TUZg@j@WZSN_@H_@Ps@t@eBbBuBl@yAn@{B?k@De@n@cDBg@Je@RmAd@eBRc@PO^e@tAeBj@iAHUr@_Bf@i@f@y@PIVCTBhADVBzAZPF`@Hd@Kj@?LC`@On@@r@M`@Ab@KXAb@GbAW^IbA_@|Ac@r@g@h@Yv@[pA_@x@a@JIXi@LI`@KJM\\\\aAPaAN]B[Em@Mi@IaBKq@KqAKu@M{CGw@Ig@@yAXcCZaAPq@n@eBNs@Rk@He@F{@Ls@NgCVeBBiALqBGuC', 'resource_state': 2}, 'trainer': False, 'commute': False, 'manual': False, 'private': False, 'visibility': 'everyone', 'flagged': False, 'gear_id': None, 'start_latlng': [50.858757, 7.1972175], 'end_latlng': [50.858757, 7.197178], 'average_speed': 2.987, 'max_speed': 4.254, 'average_cadence': 83.9, 'has_heartrate': False, 'heartrate_opt_out': False, 'display_hide_heartrate_option': False, 'elev_high': 118.6, 'elev_low': 103.2, 'upload_id': 13481489494, 'upload_id_str': '13481489494', 'external_id': 'stripped_shealthc039a055-7f09-4453-b1e6-b8b6abf0d688.tcx', 'from_accepted_tag': False, 'pr_count': 0, 'total_photo_count': 0, 'has_kudoed': False}, {'resource_state': 2, 'athlete': {'id': 133094316, 'resource_state': 1}, 'name': 'Lunch Run', 'distance': 6000.2, 'moving_time': 1668, 'elapsed_time': 1681, 'total_elevation_gain': 41.4, 'type': 'Run', 'sport_type': 'Run', 'workout_type': 0, 'id': 12635874694, 'start_date': '2024-10-12T10:39:59Z', 'start_date_local': '2024-10-12T12:39:59Z', 'timezone': '(GMT+01:00) Europe/Berlin', 'utc_offset': 7200.0, 'location_city': None, 'location_state': None, 'location_country': 'Germany', 'achievement_count': 0, 'kudos_count': 1, 'comment_count': 0, 'athlete_count': 1, 'photo_count': 0, 'map': {'id': 'a12635874694', 'summary_polyline': 'geluHuk|j@BvBIbEYjCI`BOzAGZg@dAOl@i@xAKb@]bCIx@KrCAfANnDLfAFt@VfBLf@LhAGb@{@fBu@hAsAfBSJ]F_@Ny@r@i@\\\\eBr@eAP{@Zc@H_@Py@RYN_AX_AR{@VUBs@@KAUO[I{@Gc@KUEy@Cw@KY?OFU\\\\s@x@m@z@[^iBzC_BzBOn@o@bEOp@Sl@?l@Er@Oj@OfAGXw@hBm@x@gAjBy@dAg@~@gBxBm@l@cAlAs@p@s@\\\\e@FQ@EBJ?VK`@GNEb@]TKf@k@LEHGh@s@Vi@HMj@i@t@o@~@aAt@qAj@sANg@l@kAHWHm@BsABSf@iCFo@XyB\\\\kAd@eAT}@tAgBtAeCd@m@fAsBLc@NWNK\\\\EVDb@Jx@FhAZ~@PH@RODSBe@?cCZuCBoBGcBDwBAeB@WJa@Fs@ImAFm@OdGI`AExA?z@DlACz@B|AK~F?PBLFHDBT?VI`@Ef@M\\\\Gr@Cl@S`AWj@EjB]hBk@j@UZG\\\\MnDeBRSr@aAnAmB\\\\iA@UCg@ScAIy@_@iC]iBWyCE{BDa@Tu@FyAHa@d@qAZc@Zq@Lw@j@wAHi@XgCXeBT{BB}@I}C@cB', 'resource_state': 2}, 'trainer': False, 'commute': False, 'manual': False, 'private': False, 'visibility': 'everyone', 'flagged': False, 'gear_id': None, 'start_latlng': [50.858753, 7.197101], 'end_latlng': [50.858906, 7.197235], 'average_speed': 3.597, 'max_speed': 5.467, 'average_cadence': 87.3, 'has_heartrate': False, 'heartrate_opt_out': False, 'display_hide_heartrate_option': False, 'elev_high': 118.6, 'elev_low': 103.6, 'upload_id': 13471789447, 'upload_id_str': '13471789447', 'external_id': 'stripped_shealth8813d230-d336-41c8-a24b-a96ebe735858.tcx', 'from_accepted_tag': False, 'pr_count': 0, 'total_photo_count': 0, 'has_kudoed': False}]\n"
     ]
    }
   ],
   "execution_count": 3
  }
 ],
 "metadata": {
  "kernelspec": {
   "display_name": "Python 3",
   "language": "python",
   "name": "python3"
  },
  "language_info": {
   "codemirror_mode": {
    "name": "ipython",
    "version": 2
   },
   "file_extension": ".py",
   "mimetype": "text/x-python",
   "name": "python",
   "nbconvert_exporter": "python",
   "pygments_lexer": "ipython2",
   "version": "2.7.6"
  }
 },
 "nbformat": 4,
 "nbformat_minor": 5
}
